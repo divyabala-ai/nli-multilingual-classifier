{
  "cells": [
    {
      "cell_type": "markdown",
      "metadata": {
        "id": "view-in-github",
        "colab_type": "text"
      },
      "source": [
        "<a href=\"https://colab.research.google.com/github/divyabala-ai/nli-multilingual-classifier/blob/main/nli_multilingual_ollama.ipynb\" target=\"_parent\"><img src=\"https://colab.research.google.com/assets/colab-badge.svg\" alt=\"Open In Colab\"/></a>"
      ]
    },
    {
      "cell_type": "code",
      "execution_count": null,
      "id": "c8a0ba6b-d8e4-4e69-aed1-a55b87e8f077",
      "metadata": {
        "id": "c8a0ba6b-d8e4-4e69-aed1-a55b87e8f077",
        "outputId": "e9996a76-45ac-460d-933c-51d2500e74c1"
      },
      "outputs": [
        {
          "name": "stdout",
          "output_type": "stream",
          "text": [
            "<module 'ollama' from 'C:\\\\Users\\\\krish\\\\anaconda3\\\\Lib\\\\site-packages\\\\ollama\\\\__init__.py'>\n"
          ]
        }
      ],
      "source": [
        "import ollama\n",
        "print(ollama)"
      ]
    },
    {
      "cell_type": "code",
      "execution_count": null,
      "id": "f4450eef-03a1-4c7c-b76a-20b56f16b2b1",
      "metadata": {
        "id": "f4450eef-03a1-4c7c-b76a-20b56f16b2b1"
      },
      "outputs": [],
      "source": [
        "# ✅ Importing necessary libraries\n",
        "import ollama\n",
        "import time\n",
        "#import math\n",
        "import concurrent.futures\n",
        "#import numpy as np\n",
        "import pandas as pd\n",
        "\n",
        "from datasets import Dataset\n",
        "from sklearn.metrics import accuracy_score, classification_report\n",
        "from sklearn.model_selection import train_test_split"
      ]
    },
    {
      "cell_type": "code",
      "execution_count": null,
      "id": "44e001cd-101b-4c3d-8776-d24611f437af",
      "metadata": {
        "id": "44e001cd-101b-4c3d-8776-d24611f437af"
      },
      "outputs": [],
      "source": [
        "# Load raw train and test data\n",
        "raw_train_df = pd.read_csv(r'C:\\Users\\krish\\Documents\\Divya\\Minnodi\\AI_course\\Projects\\NLI Watson\\nli_watson\\train.csv') # raw_train_df - untouched reference\n",
        "raw_test_df = pd.read_csv(r'C:\\Users\\krish\\Documents\\Divya\\Minnodi\\AI_course\\Projects\\NLI Watson\\nli_watson\\test.csv')   # raw_test_df - untouched reference\n",
        "\n",
        "# Make working copies (preserve raw versions)\n",
        "train_df = raw_train_df.copy()\n",
        "test_df = raw_test_df.copy()\n",
        "\n",
        "# Cleaning function\n",
        "def clean_nli_dataframe(df):\n",
        "    # Check if 'label' column exists before filtering\n",
        "    if 'label' in df.columns:\n",
        "        df = df.dropna()                                                     # Drop missing values\n",
        "        df = df.drop_duplicates(subset=['premise', 'hypothesis'])            # Remove duplicates\n",
        "        df = df.reset_index(drop=True)                                       # Reset index\n",
        "        return df[['premise', 'hypothesis', 'label']]                        # Keep relevant columns from train data\n",
        "    else:\n",
        "        # If 'label' column doesn't exist, assume it's the test set\n",
        "        df = df.dropna()                                                     # Drop missing values\n",
        "        df = df.drop_duplicates(subset=['premise', 'hypothesis'])            # Remove duplicates\n",
        "        df = df.reset_index(drop=True)                                       # Reset index\n",
        "        return df[['premise', 'hypothesis']]                                 # Keep relevant columns from test data\n",
        "\n",
        "# Cleaned copies for modeling\n",
        "clean_train_df = clean_nli_dataframe(train_df)\n",
        "clean_test_df = clean_nli_dataframe(test_df)"
      ]
    },
    {
      "cell_type": "code",
      "execution_count": null,
      "id": "e9e50c0e-8b5e-4b79-9582-85fb7c04e38e",
      "metadata": {
        "id": "e9e50c0e-8b5e-4b79-9582-85fb7c04e38e",
        "outputId": "45890171-9524-468d-da4e-61087c8f6af4"
      },
      "outputs": [
        {
          "data": {
            "text/html": [
              "<div>\n",
              "<style scoped>\n",
              "    .dataframe tbody tr th:only-of-type {\n",
              "        vertical-align: middle;\n",
              "    }\n",
              "\n",
              "    .dataframe tbody tr th {\n",
              "        vertical-align: top;\n",
              "    }\n",
              "\n",
              "    .dataframe thead th {\n",
              "        text-align: right;\n",
              "    }\n",
              "</style>\n",
              "<table border=\"1\" class=\"dataframe\">\n",
              "  <thead>\n",
              "    <tr style=\"text-align: right;\">\n",
              "      <th></th>\n",
              "      <th>premise</th>\n",
              "      <th>hypothesis</th>\n",
              "      <th>label</th>\n",
              "    </tr>\n",
              "  </thead>\n",
              "  <tbody>\n",
              "    <tr>\n",
              "      <th>0</th>\n",
              "      <td>and these comments were considered in formulat...</td>\n",
              "      <td>The rules developed in the interim were put to...</td>\n",
              "      <td>0</td>\n",
              "    </tr>\n",
              "    <tr>\n",
              "      <th>1</th>\n",
              "      <td>These are issues that we wrestle with in pract...</td>\n",
              "      <td>Practice groups are not permitted to work on t...</td>\n",
              "      <td>2</td>\n",
              "    </tr>\n",
              "    <tr>\n",
              "      <th>2</th>\n",
              "      <td>Des petites choses comme celles-là font une di...</td>\n",
              "      <td>J'essayais d'accomplir quelque chose.</td>\n",
              "      <td>0</td>\n",
              "    </tr>\n",
              "    <tr>\n",
              "      <th>3</th>\n",
              "      <td>you know they can't really defend themselves l...</td>\n",
              "      <td>They can't defend themselves because of their ...</td>\n",
              "      <td>0</td>\n",
              "    </tr>\n",
              "    <tr>\n",
              "      <th>4</th>\n",
              "      <td>ในการเล่นบทบาทสมมุติก็เช่นกัน โอกาสที่จะได้แสด...</td>\n",
              "      <td>เด็กสามารถเห็นได้ว่าชาติพันธุ์แตกต่างกันอย่างไร</td>\n",
              "      <td>1</td>\n",
              "    </tr>\n",
              "  </tbody>\n",
              "</table>\n",
              "</div>"
            ],
            "text/plain": [
              "                                             premise  \\\n",
              "0  and these comments were considered in formulat...   \n",
              "1  These are issues that we wrestle with in pract...   \n",
              "2  Des petites choses comme celles-là font une di...   \n",
              "3  you know they can't really defend themselves l...   \n",
              "4  ในการเล่นบทบาทสมมุติก็เช่นกัน โอกาสที่จะได้แสด...   \n",
              "\n",
              "                                          hypothesis  label  \n",
              "0  The rules developed in the interim were put to...      0  \n",
              "1  Practice groups are not permitted to work on t...      2  \n",
              "2              J'essayais d'accomplir quelque chose.      0  \n",
              "3  They can't defend themselves because of their ...      0  \n",
              "4    เด็กสามารถเห็นได้ว่าชาติพันธุ์แตกต่างกันอย่างไร      1  "
            ]
          },
          "execution_count": 5,
          "metadata": {},
          "output_type": "execute_result"
        }
      ],
      "source": [
        "clean_train_df.head(5)"
      ]
    },
    {
      "cell_type": "code",
      "execution_count": null,
      "id": "8c15c85c-63ef-4fcd-b830-4c027c848515",
      "metadata": {
        "id": "8c15c85c-63ef-4fcd-b830-4c027c848515",
        "outputId": "005549fb-ee09-453e-cd34-d9f872d36b3b"
      },
      "outputs": [
        {
          "data": {
            "text/html": [
              "<div>\n",
              "<style scoped>\n",
              "    .dataframe tbody tr th:only-of-type {\n",
              "        vertical-align: middle;\n",
              "    }\n",
              "\n",
              "    .dataframe tbody tr th {\n",
              "        vertical-align: top;\n",
              "    }\n",
              "\n",
              "    .dataframe thead th {\n",
              "        text-align: right;\n",
              "    }\n",
              "</style>\n",
              "<table border=\"1\" class=\"dataframe\">\n",
              "  <thead>\n",
              "    <tr style=\"text-align: right;\">\n",
              "      <th></th>\n",
              "      <th>premise</th>\n",
              "      <th>hypothesis</th>\n",
              "    </tr>\n",
              "  </thead>\n",
              "  <tbody>\n",
              "    <tr>\n",
              "      <th>0</th>\n",
              "      <td>بکس، کیسی، راہیل، یسعیاہ، کیلی، کیلی، اور کولم...</td>\n",
              "      <td>کیسی کے لئے کوئی یادگار نہیں ہوگا, کولمین ہائی...</td>\n",
              "    </tr>\n",
              "    <tr>\n",
              "      <th>1</th>\n",
              "      <td>هذا هو ما تم نصحنا به.</td>\n",
              "      <td>عندما يتم إخبارهم بما يجب عليهم فعله ، فشلت ال...</td>\n",
              "    </tr>\n",
              "    <tr>\n",
              "      <th>2</th>\n",
              "      <td>et cela est en grande partie dû au fait que le...</td>\n",
              "      <td>Les mères se droguent.</td>\n",
              "    </tr>\n",
              "    <tr>\n",
              "      <th>3</th>\n",
              "      <td>与城市及其他公民及社区组织代表就IMA的艺术发展进行对话&amp;amp</td>\n",
              "      <td>IMA与其他组织合作，因为它们都依靠共享资金。</td>\n",
              "    </tr>\n",
              "    <tr>\n",
              "      <th>4</th>\n",
              "      <td>Она все еще была там.</td>\n",
              "      <td>Мы думали, что она ушла, однако, она осталась.</td>\n",
              "    </tr>\n",
              "  </tbody>\n",
              "</table>\n",
              "</div>"
            ],
            "text/plain": [
              "                                             premise  \\\n",
              "0  بکس، کیسی، راہیل، یسعیاہ، کیلی، کیلی، اور کولم...   \n",
              "1                             هذا هو ما تم نصحنا به.   \n",
              "2  et cela est en grande partie dû au fait que le...   \n",
              "3                   与城市及其他公民及社区组织代表就IMA的艺术发展进行对话&amp   \n",
              "4                              Она все еще была там.   \n",
              "\n",
              "                                          hypothesis  \n",
              "0  کیسی کے لئے کوئی یادگار نہیں ہوگا, کولمین ہائی...  \n",
              "1  عندما يتم إخبارهم بما يجب عليهم فعله ، فشلت ال...  \n",
              "2                             Les mères se droguent.  \n",
              "3                            IMA与其他组织合作，因为它们都依靠共享资金。  \n",
              "4     Мы думали, что она ушла, однако, она осталась.  "
            ]
          },
          "execution_count": 6,
          "metadata": {},
          "output_type": "execute_result"
        }
      ],
      "source": [
        "clean_test_df.head(5)"
      ]
    },
    {
      "cell_type": "code",
      "execution_count": null,
      "id": "6e581341-b1e6-458e-97db-aa3dde113f17",
      "metadata": {
        "id": "6e581341-b1e6-458e-97db-aa3dde113f17",
        "outputId": "962249a4-852e-4d0a-a575-07f7930a59f2"
      },
      "outputs": [
        {
          "name": "stdout",
          "output_type": "stream",
          "text": [
            "Train Prompt Example:\n",
            " Premise: \"and these comments were considered in formulating the interim rules.\"\n",
            "Hypothesis: \"The rules developed in the interim were put together with these comments in mind.\"\n",
            "What is the relationship? Options: entailment, neutral, contradiction.\n",
            "Answer: entailment\n",
            "\n",
            "Test Prompt Example:\n",
            " Premise: \"بکس، کیسی، راہیل، یسعیاہ، کیلی، کیلی، اور کولمبین ہائی اسکول کے دوسرے طلبا کے نام سے بکسوں کو نشان زد کیا جائے گا جس نے اس سال پہلے اپنی زندگی کھو دی\"\n",
            "Hypothesis: \"کیسی کے لئے کوئی یادگار نہیں ہوگا, کولمین ہائی اسکول کے طالب علموں میں سے ایک جو مر گیا.\"\n",
            "What is the relationship? Options: entailment, neutral, contradiction.\n",
            "Answer:\n"
          ]
        }
      ],
      "source": [
        "# ✅ Create formatted prompts for training and testing\n",
        "\n",
        "# For training: combine input text and label\n",
        "train_prompts = [\n",
        "    f\"Premise: \\\"{row['premise']}\\\"\\nHypothesis: \\\"{row['hypothesis']}\\\"\\nWhat is the relationship? Options: entailment, neutral, contradiction.\\nAnswer: {['entailment', 'neutral', 'contradiction'][row['label']]}\"\n",
        "    for _, row in clean_train_df.iterrows()\n",
        "]\n",
        "\n",
        "# For testing: no label in the prompt\n",
        "test_prompts = [\n",
        "    f\"Premise: \\\"{row['premise']}\\\"\\nHypothesis: \\\"{row['hypothesis']}\\\"\\nWhat is the relationship? Options: entailment, neutral, contradiction.\\nAnswer:\"\n",
        "    for _, row in clean_test_df.iterrows()\n",
        "]\n",
        "\n",
        "# ✅ Preview a few training and test prompts\n",
        "print(\"Train Prompt Example:\\n\", train_prompts[0])\n",
        "print(\"\\nTest Prompt Example:\\n\", test_prompts[0])\n"
      ]
    },
    {
      "cell_type": "code",
      "execution_count": null,
      "id": "087dbec3-9d27-45a3-8934-359537a53f30",
      "metadata": {
        "id": "087dbec3-9d27-45a3-8934-359537a53f30",
        "outputId": "97e7569b-55c1-4d9e-e707-74cab8beb15f"
      },
      "outputs": [
        {
          "name": "stdout",
          "output_type": "stream",
          "text": [
            "\n",
            "⏱️ Time taken for validation predictions: 10360.89 seconds for 1212 prompts\n",
            "\n",
            "Total predictions received: 1212\n",
            "Total true labels: 1212\n",
            "\n",
            "Classification Report on Validation Data:\n",
            "                precision    recall  f1-score   support\n",
            "\n",
            "contradiction       0.94      0.45      0.61       387\n",
            "   entailment       0.52      0.84      0.64       436\n",
            "      neutral       0.39      0.32      0.35       389\n",
            "\n",
            "     accuracy                           0.55      1212\n",
            "    macro avg       0.62      0.54      0.53      1212\n",
            " weighted avg       0.61      0.55      0.54      1212\n",
            "\n",
            "\n",
            "Sample Validation Predictions vs Actuals:\n",
            "Predicted: neutral | Actual: neutral\n",
            "Predicted: entailment | Actual: entailment\n",
            "Predicted: contradiction | Actual: contradiction\n",
            "Predicted: entailment | Actual: entailment\n",
            "Predicted: entailment | Actual: neutral\n"
          ]
        }
      ],
      "source": [
        "# ✅ Function to send one prompt and get a cleaned prediction\n",
        "def get_prediction(prompt):\n",
        "    concise_prompt = f\"{prompt}\\nPlease respond with just one word: entailment, neutral, or contradiction.\"\n",
        "    response = ollama.chat(\n",
        "        model=\"llama3:latest\",\n",
        "        messages=[{\"role\": \"user\", \"content\": concise_prompt}]\n",
        "    )\n",
        "    label = response.message.content.strip().lower()\n",
        "    return label if label in ['entailment', 'neutral', 'contradiction'] else \"unknown\"\n",
        "\n",
        "# ✅ Function to run predictions in parallel\n",
        "def get_predictions_parallel(prompts, max_workers):\n",
        "    with concurrent.futures.ThreadPoolExecutor(max_workers=max_workers) as executor:\n",
        "        results = list(executor.map(get_prediction, prompts))\n",
        "    return results\n",
        "\n",
        "# ✅ Split the training data into train and validation (using first 5000 rows for now)\n",
        "train_data, val_data = train_test_split(clean_train_df, test_size=0.1, random_state=42)\n",
        "\n",
        "# ✅ Format prompts with improved prompt engineering for better model understanding\n",
        "val_prompts = [\n",
        "    (\n",
        "        \"You are a Natural Language Inference expert.\\n\"\n",
        "        \"Classify the relationship between the premise and hypothesis as one of: entailment, contradiction, or neutral.\\n\"\n",
        "        \"Respond with only one of these words.\\n\\n\"\n",
        "        \"Example:\\n\"\n",
        "        \"Premise: \\\"A man and a woman are walking through a brightly lit shopping mall.\\\"\\n\"\n",
        "        \"Hypothesis: \\\"They are shopping for groceries.\\\"\\n\"\n",
        "        \"Answer: neutral\\n\\n\"\n",
        "        f\"Now classify the following:\\n\"\n",
        "        f\"Premise: \\\"{row['premise']}\\\"\\n\"\n",
        "        f\"Hypothesis: \\\"{row['hypothesis']}\\\"\\n\"\n",
        "        \"Answer:\"\n",
        "    )\n",
        "    for _, row in val_data.iterrows()\n",
        "]\n",
        "\n",
        "# ✅ True labels\n",
        "true_labels_val = [['entailment', 'neutral', 'contradiction'][row['label']] for _, row in val_data.iterrows()]\n",
        "\n",
        "# ✅ Time the predictions\n",
        "start_time = time.time()\n",
        "val_predictions = get_predictions_parallel(val_prompts, max_workers=25)  # You can adjust max_workers\n",
        "end_time = time.time()\n",
        "elapsed_time = end_time - start_time\n",
        "\n",
        "# ✅ Evaluate\n",
        "print(f\"\\n⏱️ Time taken for validation predictions: {elapsed_time:.2f} seconds for {len(val_prompts)} prompts\")\n",
        "print(f\"\\nTotal predictions received: {len(val_predictions)}\")\n",
        "print(f\"Total true labels: {len(true_labels_val)}\")\n",
        "\n",
        "if len(val_predictions) == len(true_labels_val):\n",
        "    print(\"\\nClassification Report on Validation Data:\\n\", classification_report(true_labels_val, val_predictions, zero_division=0))\n",
        "    print(\"\\nSample Validation Predictions vs Actuals:\")\n",
        "    for i in range(5):\n",
        "        print(f\"Predicted: {val_predictions[i]} | Actual: {true_labels_val[i]}\")\n",
        "else:\n",
        "    print(\"\\n⚠️ Mismatch between number of predictions and true labels. Skipping classification report.\")\n"
      ]
    }
  ],
  "metadata": {
    "kernelspec": {
      "display_name": "Python [conda env:base] *",
      "language": "python",
      "name": "conda-base-py"
    },
    "language_info": {
      "codemirror_mode": {
        "name": "ipython",
        "version": 3
      },
      "file_extension": ".py",
      "mimetype": "text/x-python",
      "name": "python",
      "nbconvert_exporter": "python",
      "pygments_lexer": "ipython3",
      "version": "3.12.7"
    },
    "colab": {
      "provenance": [],
      "include_colab_link": true
    }
  },
  "nbformat": 4,
  "nbformat_minor": 5
}