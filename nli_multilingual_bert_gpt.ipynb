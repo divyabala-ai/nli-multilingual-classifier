{
  "cells": [
    {
      "cell_type": "markdown",
      "metadata": {
        "id": "view-in-github",
        "colab_type": "text"
      },
      "source": [
        "<a href=\"https://colab.research.google.com/github/divyabala-ai/nli-multilingual-classifier/blob/main/nli_multilingual_bert_gpt.ipynb\" target=\"_parent\"><img src=\"https://colab.research.google.com/assets/colab-badge.svg\" alt=\"Open In Colab\"/></a>"
      ]
    },
    {
      "cell_type": "markdown",
      "metadata": {
        "id": "HcKX_R72ESH1"
      },
      "source": [
        "**NLI - Watson Project**\n",
        "\n",
        "Using the dataset from Kaggle: Contradictory, My Dear Watson, build a classification model to predict if the two sentences are in entailment, neutral, or contradiction.\n",
        "\n",
        "The project should follow the guidelines below:\n",
        "\n",
        "1.  Pre-process the data\n",
        "2.  Perform data exploration\n",
        "3.  Use BERT to build the model, including generating the classification report\n",
        "4.  Use GPT to build the model\n",
        "5.  Use Ollama to build the model\n",
        "6.  Write up analysis and conclusions\n",
        "\n",
        "\n",
        "\n",
        "\n",
        "\n",
        "\n",
        "\n",
        "\n",
        "\n",
        "\n"
      ]
    },
    {
      "cell_type": "code",
      "execution_count": null,
      "metadata": {
        "id": "VZUyBsRsEbVx"
      },
      "outputs": [],
      "source": [
        "# !pip install datasets"
      ]
    },
    {
      "cell_type": "code",
      "execution_count": null,
      "metadata": {
        "id": "OIUWvYYNECco"
      },
      "outputs": [],
      "source": [
        "# === Imports ===\n",
        "import torch\n",
        "import numpy as np\n",
        "import pandas as pd\n",
        "import seaborn as sns\n",
        "import matplotlib.pyplot as plt\n",
        "\n",
        "from datasets import Dataset\n",
        "from sklearn.metrics import accuracy_score, classification_report\n",
        "from transformers import Trainer, TrainingArguments, TrainerCallback, EarlyStoppingCallback, AutoTokenizer, AutoModelForSequenceClassification #BertTokenizer, BertForSequenceClassification,\n",
        "\n",
        "# === Mount Google Drive ===\n",
        "from google.colab import drive\n",
        "drive.mount('/content/drive')"
      ]
    },
    {
      "cell_type": "markdown",
      "metadata": {
        "id": "rphxcphjLVmI"
      },
      "source": [
        "# **Data pre-processing**"
      ]
    },
    {
      "cell_type": "code",
      "execution_count": null,
      "metadata": {
        "id": "nFrCZ2DszWo6"
      },
      "outputs": [],
      "source": [
        "# Load raw train and test data\n",
        "raw_train_df = pd.read_csv('/content/drive/MyDrive/nli_watson/train.csv') # raw_train_df - untouched reference\n",
        "raw_test_df = pd.read_csv('/content/drive/MyDrive/nli_watson/test.csv')   # raw_test_df - untouched reference\n",
        "\n",
        "# Make working copies (preserve raw versions)\n",
        "train_df = raw_train_df.copy()\n",
        "test_df = raw_test_df.copy()\n",
        "\n",
        "# Cleaning function\n",
        "def clean_nli_dataframe(df):\n",
        "    # Check if 'label' column exists before filtering\n",
        "    if 'label' in df.columns:\n",
        "        df = df.dropna()                                                     # Drop missing values\n",
        "        df = df.drop_duplicates(subset=['premise', 'hypothesis'])            # Remove duplicates\n",
        "        df = df.reset_index(drop=True)                                       # Reset index\n",
        "        return df[['premise', 'hypothesis', 'label']]                        # Keep relevant columns from train data\n",
        "    else:\n",
        "        # If 'label' column doesn't exist, assume it's the test set\n",
        "        df = df.dropna()                                                     # Drop missing values\n",
        "        df = df.drop_duplicates(subset=['premise', 'hypothesis'])            # Remove duplicates\n",
        "        df = df.reset_index(drop=True)                                       # Reset index\n",
        "        return df[['premise', 'hypothesis']]                                 # Keep relevant columns from test data\n",
        "\n",
        "# Cleaned copies for modeling\n",
        "clean_train_df = clean_nli_dataframe(train_df)\n",
        "clean_test_df = clean_nli_dataframe(test_df)"
      ]
    },
    {
      "cell_type": "markdown",
      "metadata": {
        "id": "9ksLjYqsS6Wy"
      },
      "source": [
        "# **Exploratory Data Analysis (EDA)**"
      ]
    },
    {
      "cell_type": "code",
      "execution_count": null,
      "metadata": {
        "colab": {
          "base_uri": "https://localhost:8080/"
        },
        "id": "e-gkpSREPaCI",
        "outputId": "8c9686dc-3ec5-4cc0-b824-59cea19c9586"
      },
      "outputs": [
        {
          "name": "stdout",
          "output_type": "stream",
          "text": [
            "<class 'pandas.core.frame.DataFrame'>\n",
            "RangeIndex: 12120 entries, 0 to 12119\n",
            "Data columns (total 3 columns):\n",
            " #   Column      Non-Null Count  Dtype \n",
            "---  ------      --------------  ----- \n",
            " 0   premise     12120 non-null  object\n",
            " 1   hypothesis  12120 non-null  object\n",
            " 2   label       12120 non-null  int64 \n",
            "dtypes: int64(1), object(2)\n",
            "memory usage: 284.2+ KB\n"
          ]
        }
      ],
      "source": [
        "# Check overall structure\n",
        "clean_train_df.info()"
      ]
    },
    {
      "cell_type": "code",
      "execution_count": null,
      "metadata": {
        "colab": {
          "base_uri": "https://localhost:8080/",
          "height": 206
        },
        "id": "YUXQ-ti9TiFe",
        "outputId": "06047b68-a2ee-457f-a5b4-ddb008af0d49"
      },
      "outputs": [
        {
          "data": {
            "application/vnd.google.colaboratory.intrinsic+json": {
              "summary": "{\n  \"name\": \"clean_train_df\",\n  \"rows\": 5,\n  \"fields\": [\n    {\n      \"column\": \"premise\",\n      \"properties\": {\n        \"dtype\": \"string\",\n        \"num_unique_values\": 5,\n        \"samples\": [\n          \"Territorial rights, in the form of a deck chair, can be assured for a nominal sum.\",\n          \"'We can't find him, Benjamin,' Lincoln/Natalia said.\",\n          \"Such multicolored reef dwellers as the parrotfish and French angelfish, along with weirdly shaped coral, crawfish, or turtles hiding in crevices, can be yours for the viewing in these clear waters where visibility of 30 m (100 ft) is common.\"\n        ],\n        \"semantic_type\": \"\",\n        \"description\": \"\"\n      }\n    },\n    {\n      \"column\": \"hypothesis\",\n      \"properties\": {\n        \"dtype\": \"string\",\n        \"num_unique_values\": 5,\n        \"samples\": [\n          \"You have no territorial rights with a deck chair.\",\n          \"After 12 hours looking for him, Lincoln/Natalia gave up.\",\n          \"It's often hard to see turtles because they are so well-hidden.\"\n        ],\n        \"semantic_type\": \"\",\n        \"description\": \"\"\n      }\n    },\n    {\n      \"column\": \"label\",\n      \"properties\": {\n        \"dtype\": \"number\",\n        \"std\": 0,\n        \"min\": 0,\n        \"max\": 2,\n        \"num_unique_values\": 3,\n        \"samples\": [\n          0,\n          2,\n          1\n        ],\n        \"semantic_type\": \"\",\n        \"description\": \"\"\n      }\n    }\n  ]\n}",
              "type": "dataframe"
            },
            "text/html": [
              "\n",
              "  <div id=\"df-abb9e13e-2843-4c61-9d98-a175ab5dbf60\" class=\"colab-df-container\">\n",
              "    <div>\n",
              "<style scoped>\n",
              "    .dataframe tbody tr th:only-of-type {\n",
              "        vertical-align: middle;\n",
              "    }\n",
              "\n",
              "    .dataframe tbody tr th {\n",
              "        vertical-align: top;\n",
              "    }\n",
              "\n",
              "    .dataframe thead th {\n",
              "        text-align: right;\n",
              "    }\n",
              "</style>\n",
              "<table border=\"1\" class=\"dataframe\">\n",
              "  <thead>\n",
              "    <tr style=\"text-align: right;\">\n",
              "      <th></th>\n",
              "      <th>premise</th>\n",
              "      <th>hypothesis</th>\n",
              "      <th>label</th>\n",
              "    </tr>\n",
              "  </thead>\n",
              "  <tbody>\n",
              "    <tr>\n",
              "      <th>5604</th>\n",
              "      <td>Не обръщайте внимание на въпроса дали индексът...</td>\n",
              "      <td>Dow Jones показва какво се случва в икономиката.</td>\n",
              "      <td>0</td>\n",
              "    </tr>\n",
              "    <tr>\n",
              "      <th>5941</th>\n",
              "      <td>Territorial rights, in the form of a deck chai...</td>\n",
              "      <td>You have no territorial rights with a deck chair.</td>\n",
              "      <td>2</td>\n",
              "    </tr>\n",
              "    <tr>\n",
              "      <th>1635</th>\n",
              "      <td>Such multicolored reef dwellers as the parrotf...</td>\n",
              "      <td>It's often hard to see turtles because they ar...</td>\n",
              "      <td>1</td>\n",
              "    </tr>\n",
              "    <tr>\n",
              "      <th>9447</th>\n",
              "      <td>Built in a.d. 715 to help measure the peak and...</td>\n",
              "      <td>It said the Nile flood was 12 feet deep.</td>\n",
              "      <td>1</td>\n",
              "    </tr>\n",
              "    <tr>\n",
              "      <th>6279</th>\n",
              "      <td>'We can't find him, Benjamin,' Lincoln/Natalia...</td>\n",
              "      <td>After 12 hours looking for him, Lincoln/Natali...</td>\n",
              "      <td>1</td>\n",
              "    </tr>\n",
              "  </tbody>\n",
              "</table>\n",
              "</div>\n",
              "    <div class=\"colab-df-buttons\">\n",
              "\n",
              "  <div class=\"colab-df-container\">\n",
              "    <button class=\"colab-df-convert\" onclick=\"convertToInteractive('df-abb9e13e-2843-4c61-9d98-a175ab5dbf60')\"\n",
              "            title=\"Convert this dataframe to an interactive table.\"\n",
              "            style=\"display:none;\">\n",
              "\n",
              "  <svg xmlns=\"http://www.w3.org/2000/svg\" height=\"24px\" viewBox=\"0 -960 960 960\">\n",
              "    <path d=\"M120-120v-720h720v720H120Zm60-500h600v-160H180v160Zm220 220h160v-160H400v160Zm0 220h160v-160H400v160ZM180-400h160v-160H180v160Zm440 0h160v-160H620v160ZM180-180h160v-160H180v160Zm440 0h160v-160H620v160Z\"/>\n",
              "  </svg>\n",
              "    </button>\n",
              "\n",
              "  <style>\n",
              "    .colab-df-container {\n",
              "      display:flex;\n",
              "      gap: 12px;\n",
              "    }\n",
              "\n",
              "    .colab-df-convert {\n",
              "      background-color: #E8F0FE;\n",
              "      border: none;\n",
              "      border-radius: 50%;\n",
              "      cursor: pointer;\n",
              "      display: none;\n",
              "      fill: #1967D2;\n",
              "      height: 32px;\n",
              "      padding: 0 0 0 0;\n",
              "      width: 32px;\n",
              "    }\n",
              "\n",
              "    .colab-df-convert:hover {\n",
              "      background-color: #E2EBFA;\n",
              "      box-shadow: 0px 1px 2px rgba(60, 64, 67, 0.3), 0px 1px 3px 1px rgba(60, 64, 67, 0.15);\n",
              "      fill: #174EA6;\n",
              "    }\n",
              "\n",
              "    .colab-df-buttons div {\n",
              "      margin-bottom: 4px;\n",
              "    }\n",
              "\n",
              "    [theme=dark] .colab-df-convert {\n",
              "      background-color: #3B4455;\n",
              "      fill: #D2E3FC;\n",
              "    }\n",
              "\n",
              "    [theme=dark] .colab-df-convert:hover {\n",
              "      background-color: #434B5C;\n",
              "      box-shadow: 0px 1px 3px 1px rgba(0, 0, 0, 0.15);\n",
              "      filter: drop-shadow(0px 1px 2px rgba(0, 0, 0, 0.3));\n",
              "      fill: #FFFFFF;\n",
              "    }\n",
              "  </style>\n",
              "\n",
              "    <script>\n",
              "      const buttonEl =\n",
              "        document.querySelector('#df-abb9e13e-2843-4c61-9d98-a175ab5dbf60 button.colab-df-convert');\n",
              "      buttonEl.style.display =\n",
              "        google.colab.kernel.accessAllowed ? 'block' : 'none';\n",
              "\n",
              "      async function convertToInteractive(key) {\n",
              "        const element = document.querySelector('#df-abb9e13e-2843-4c61-9d98-a175ab5dbf60');\n",
              "        const dataTable =\n",
              "          await google.colab.kernel.invokeFunction('convertToInteractive',\n",
              "                                                    [key], {});\n",
              "        if (!dataTable) return;\n",
              "\n",
              "        const docLinkHtml = 'Like what you see? Visit the ' +\n",
              "          '<a target=\"_blank\" href=https://colab.research.google.com/notebooks/data_table.ipynb>data table notebook</a>'\n",
              "          + ' to learn more about interactive tables.';\n",
              "        element.innerHTML = '';\n",
              "        dataTable['output_type'] = 'display_data';\n",
              "        await google.colab.output.renderOutput(dataTable, element);\n",
              "        const docLink = document.createElement('div');\n",
              "        docLink.innerHTML = docLinkHtml;\n",
              "        element.appendChild(docLink);\n",
              "      }\n",
              "    </script>\n",
              "  </div>\n",
              "\n",
              "\n",
              "    <div id=\"df-19919bbb-ccf4-41ca-aec7-fba591567a49\">\n",
              "      <button class=\"colab-df-quickchart\" onclick=\"quickchart('df-19919bbb-ccf4-41ca-aec7-fba591567a49')\"\n",
              "                title=\"Suggest charts\"\n",
              "                style=\"display:none;\">\n",
              "\n",
              "<svg xmlns=\"http://www.w3.org/2000/svg\" height=\"24px\"viewBox=\"0 0 24 24\"\n",
              "     width=\"24px\">\n",
              "    <g>\n",
              "        <path d=\"M19 3H5c-1.1 0-2 .9-2 2v14c0 1.1.9 2 2 2h14c1.1 0 2-.9 2-2V5c0-1.1-.9-2-2-2zM9 17H7v-7h2v7zm4 0h-2V7h2v10zm4 0h-2v-4h2v4z\"/>\n",
              "    </g>\n",
              "</svg>\n",
              "      </button>\n",
              "\n",
              "<style>\n",
              "  .colab-df-quickchart {\n",
              "      --bg-color: #E8F0FE;\n",
              "      --fill-color: #1967D2;\n",
              "      --hover-bg-color: #E2EBFA;\n",
              "      --hover-fill-color: #174EA6;\n",
              "      --disabled-fill-color: #AAA;\n",
              "      --disabled-bg-color: #DDD;\n",
              "  }\n",
              "\n",
              "  [theme=dark] .colab-df-quickchart {\n",
              "      --bg-color: #3B4455;\n",
              "      --fill-color: #D2E3FC;\n",
              "      --hover-bg-color: #434B5C;\n",
              "      --hover-fill-color: #FFFFFF;\n",
              "      --disabled-bg-color: #3B4455;\n",
              "      --disabled-fill-color: #666;\n",
              "  }\n",
              "\n",
              "  .colab-df-quickchart {\n",
              "    background-color: var(--bg-color);\n",
              "    border: none;\n",
              "    border-radius: 50%;\n",
              "    cursor: pointer;\n",
              "    display: none;\n",
              "    fill: var(--fill-color);\n",
              "    height: 32px;\n",
              "    padding: 0;\n",
              "    width: 32px;\n",
              "  }\n",
              "\n",
              "  .colab-df-quickchart:hover {\n",
              "    background-color: var(--hover-bg-color);\n",
              "    box-shadow: 0 1px 2px rgba(60, 64, 67, 0.3), 0 1px 3px 1px rgba(60, 64, 67, 0.15);\n",
              "    fill: var(--button-hover-fill-color);\n",
              "  }\n",
              "\n",
              "  .colab-df-quickchart-complete:disabled,\n",
              "  .colab-df-quickchart-complete:disabled:hover {\n",
              "    background-color: var(--disabled-bg-color);\n",
              "    fill: var(--disabled-fill-color);\n",
              "    box-shadow: none;\n",
              "  }\n",
              "\n",
              "  .colab-df-spinner {\n",
              "    border: 2px solid var(--fill-color);\n",
              "    border-color: transparent;\n",
              "    border-bottom-color: var(--fill-color);\n",
              "    animation:\n",
              "      spin 1s steps(1) infinite;\n",
              "  }\n",
              "\n",
              "  @keyframes spin {\n",
              "    0% {\n",
              "      border-color: transparent;\n",
              "      border-bottom-color: var(--fill-color);\n",
              "      border-left-color: var(--fill-color);\n",
              "    }\n",
              "    20% {\n",
              "      border-color: transparent;\n",
              "      border-left-color: var(--fill-color);\n",
              "      border-top-color: var(--fill-color);\n",
              "    }\n",
              "    30% {\n",
              "      border-color: transparent;\n",
              "      border-left-color: var(--fill-color);\n",
              "      border-top-color: var(--fill-color);\n",
              "      border-right-color: var(--fill-color);\n",
              "    }\n",
              "    40% {\n",
              "      border-color: transparent;\n",
              "      border-right-color: var(--fill-color);\n",
              "      border-top-color: var(--fill-color);\n",
              "    }\n",
              "    60% {\n",
              "      border-color: transparent;\n",
              "      border-right-color: var(--fill-color);\n",
              "    }\n",
              "    80% {\n",
              "      border-color: transparent;\n",
              "      border-right-color: var(--fill-color);\n",
              "      border-bottom-color: var(--fill-color);\n",
              "    }\n",
              "    90% {\n",
              "      border-color: transparent;\n",
              "      border-bottom-color: var(--fill-color);\n",
              "    }\n",
              "  }\n",
              "</style>\n",
              "\n",
              "      <script>\n",
              "        async function quickchart(key) {\n",
              "          const quickchartButtonEl =\n",
              "            document.querySelector('#' + key + ' button');\n",
              "          quickchartButtonEl.disabled = true;  // To prevent multiple clicks.\n",
              "          quickchartButtonEl.classList.add('colab-df-spinner');\n",
              "          try {\n",
              "            const charts = await google.colab.kernel.invokeFunction(\n",
              "                'suggestCharts', [key], {});\n",
              "          } catch (error) {\n",
              "            console.error('Error during call to suggestCharts:', error);\n",
              "          }\n",
              "          quickchartButtonEl.classList.remove('colab-df-spinner');\n",
              "          quickchartButtonEl.classList.add('colab-df-quickchart-complete');\n",
              "        }\n",
              "        (() => {\n",
              "          let quickchartButtonEl =\n",
              "            document.querySelector('#df-19919bbb-ccf4-41ca-aec7-fba591567a49 button');\n",
              "          quickchartButtonEl.style.display =\n",
              "            google.colab.kernel.accessAllowed ? 'block' : 'none';\n",
              "        })();\n",
              "      </script>\n",
              "    </div>\n",
              "\n",
              "    </div>\n",
              "  </div>\n"
            ],
            "text/plain": [
              "                                                premise  \\\n",
              "5604  Не обръщайте внимание на въпроса дали индексът...   \n",
              "5941  Territorial rights, in the form of a deck chai...   \n",
              "1635  Such multicolored reef dwellers as the parrotf...   \n",
              "9447  Built in a.d. 715 to help measure the peak and...   \n",
              "6279  'We can't find him, Benjamin,' Lincoln/Natalia...   \n",
              "\n",
              "                                             hypothesis  label  \n",
              "5604   Dow Jones показва какво се случва в икономиката.      0  \n",
              "5941  You have no territorial rights with a deck chair.      2  \n",
              "1635  It's often hard to see turtles because they ar...      1  \n",
              "9447           It said the Nile flood was 12 feet deep.      1  \n",
              "6279  After 12 hours looking for him, Lincoln/Natali...      1  "
            ]
          },
          "execution_count": 7,
          "metadata": {},
          "output_type": "execute_result"
        }
      ],
      "source": [
        "# View random samples\n",
        "clean_train_df.sample(5)"
      ]
    },
    {
      "cell_type": "code",
      "execution_count": null,
      "metadata": {
        "colab": {
          "base_uri": "https://localhost:8080/",
          "height": 410
        },
        "id": "huGwgapzUBBR",
        "outputId": "7b7ea3cb-9593-4ee1-e395-7fc0f8306928"
      },
      "outputs": [
        {
          "data": {
            "image/png": "[encoded data removed]",
            "text/plain": [
              "<Figure size 600x400 with 1 Axes>"
            ]
          },
          "metadata": {},
          "output_type": "display_data"
        }
      ],
      "source": [
        "# Label Distribution - to detect class imbalance\n",
        "plt.figure(figsize=(6,4))\n",
        "sns.countplot(data=clean_train_df, x='label', color='salmon')\n",
        "plt.title(\"Label Distribution\")\n",
        "plt.xlabel(\"Label (0=Entailment, 1=Neutral, 2=Contradiction)\")\n",
        "plt.ylabel(\"Count\")\n",
        "plt.show()"
      ]
    },
    {
      "cell_type": "code",
      "execution_count": null,
      "metadata": {
        "colab": {
          "base_uri": "https://localhost:8080/"
        },
        "id": "6PvQap1NVqKj",
        "outputId": "35a2333a-ab25-46dd-b6a8-e1c85b4fa9d2"
      },
      "outputs": [
        {
          "name": "stdout",
          "output_type": "stream",
          "text": [
            "        premise_len  hypothesis_len\n",
            "count  12120.000000    12120.000000\n",
            "mean      17.990182        9.195297\n",
            "std       12.898411        4.650281\n",
            "min        1.000000        1.000000\n",
            "25%        9.000000        6.000000\n",
            "50%       16.000000        9.000000\n",
            "75%       25.000000       12.000000\n",
            "max      196.000000       46.000000\n"
          ]
        }
      ],
      "source": [
        "# Sentence Length Statistics - Helps determine if you’ll need truncation or padding for models like BERT.\n",
        "clean_train_df['premise_len'] = clean_train_df['premise'].apply(lambda x: len(x.split()))\n",
        "clean_train_df['hypothesis_len'] = clean_train_df['hypothesis'].apply(lambda x: len(x.split()))\n",
        "\n",
        "print(clean_train_df[['premise_len', 'hypothesis_len']].describe())"
      ]
    },
    {
      "cell_type": "code",
      "execution_count": null,
      "metadata": {
        "colab": {
          "base_uri": "https://localhost:8080/",
          "height": 410
        },
        "id": "1ikJoTF2VGVK",
        "outputId": "3a02aedf-6734-4b79-8924-5f99f4a191b0"
      },
      "outputs": [
        {
          "data": {
            "image/png": "[encoded data removed]",
            "text/plain": [
              "<Figure size 600x400 with 1 Axes>"
            ]
          },
          "metadata": {},
          "output_type": "display_data"
        }
      ],
      "source": [
        "# Visualize typical sentence lengths\n",
        "plt.figure(figsize=(6,4))\n",
        "plt.hist(clean_train_df['premise_len'], bins=50, alpha=0.6, label='Premise')\n",
        "plt.hist(clean_train_df['hypothesis_len'], bins=50, alpha=0.6, label='Hypothesis')\n",
        "plt.legend()\n",
        "plt.title(\"Sentence Length Distribution\")\n",
        "plt.xlabel(\"Number of Words\")\n",
        "plt.ylabel(\"Frequency\")\n",
        "plt.show()"
      ]
    },
    {
      "cell_type": "markdown",
      "metadata": {
        "id": "4Tc77GOVxViy"
      },
      "source": [
        "# **Build the NLI model using BERT**"
      ]
    },
    {
      "cell_type": "code",
      "execution_count": null,
      "metadata": {
        "colab": {
          "base_uri": "https://localhost:8080/",
          "height": 768,
          "referenced_widgets": [
            "59226a46deb64ce79dde260247e43b58",
            "60c0e637dfaf44b0adedfa212292ba40",
            "986d8f52d6b24ca5a1a2456fba1cf4af",
            "6cd3a390b10141cab8a15324fd7b26a8",
            "ad58d3e8918a46a69fbfce24308c45ff",
            "1dadf4e758cf40e8a55350b280c7587c",
            "b77904ab2e0343f6b4851b40ddf8856c",
            "69ab7d0970d54ead86da2820bef31178",
            "99ab4defdd0942d8ae36e5633bbc6a29",
            "30ebb798353c49158c820ffa2a0c6137",
            "1307218180c24170b2b096b6dc8f7ebc",
            "cc31d37d2569437dbee9a25a174d1317",
            "8793bda3b1ac4240b43b0ad8047990c1",
            "79dc647c15eb4e73b0b6c9e55fd071e0",
            "96eada398a114bdf9e37a4192a44884a",
            "cfe09b48affd4b48a3bfe6beb17bbd39",
            "eac57f9976fb45fca6c313c0e0c032a3",
            "4ba727881f6d470899782cd44241a608",
            "dbfb5457153740f89af5730ac5557a0c",
            "08a9cea1485e4ee1bdd654c1028cb6e6",
            "623e6930ca1a42e68dd54b061e69fc1a",
            "50237514af1b4e01a6e583be8c41a7e3",
            "1fdc15c84c824413a99644448f1270d3",
            "8115ebde79c94c3eb83b8ae2531a55a3",
            "4e1d340b91de426eb4fb99f480472c01",
            "aa14395776eb493e8e734ed180bb1bdd",
            "41943d6682d2484ab22f435cee9cf203",
            "5cc5a0f63f0a497785845a6ba3f37845",
            "11ffebf5af8f412b9e690c09e2841347",
            "d74e2d21075b417783d773ff22e4c424",
            "51dfec19dc864760a50b89f2359d57d4",
            "6741d3fbe20b48c8a371c84dd6f982a6",
            "d50a85eb39b34efc893a4e6cac1e3fdf"
          ]
        },
        "id": "QwxFZY2J-ukH",
        "outputId": "a56d61e1-73a3-4c56-c8dd-6d2237194c03"
      },
      "outputs": [
        {
          "data": {
            "application/vnd.jupyter.widget-view+json": {
              "model_id": "59226a46deb64ce79dde260247e43b58",
              "version_major": 2,
              "version_minor": 0
            },
            "text/plain": [
              "Map:   0%|          | 0/12120 [00:00<?, ? examples/s]"
            ]
          },
          "metadata": {},
          "output_type": "display_data"
        },
        {
          "data": {
            "application/vnd.jupyter.widget-view+json": {
              "model_id": "cc31d37d2569437dbee9a25a174d1317",
              "version_major": 2,
              "version_minor": 0
            },
            "text/plain": [
              "Map:   0%|          | 0/5195 [00:00<?, ? examples/s]"
            ]
          },
          "metadata": {},
          "output_type": "display_data"
        },
        {
          "data": {
            "application/vnd.jupyter.widget-view+json": {
              "model_id": "1fdc15c84c824413a99644448f1270d3",
              "version_major": 2,
              "version_minor": 0
            },
            "text/plain": [
              "Map:   0%|          | 0/12120 [00:00<?, ? examples/s]"
            ]
          },
          "metadata": {},
          "output_type": "display_data"
        },
        {
          "name": "stderr",
          "output_type": "stream",
          "text": [
            "Some weights of XLMRobertaForSequenceClassification were not initialized from the model checkpoint at xlm-roberta-base and are newly initialized: ['classifier.dense.bias', 'classifier.dense.weight', 'classifier.out_proj.bias', 'classifier.out_proj.weight']\n",
            "You should probably TRAIN this model on a down-stream task to be able to use it for predictions and inference.\n"
          ]
        },
        {
          "data": {
            "text/html": [
              "\n",
              "    <div>\n",
              "      \n",
              "      <progress value='2728' max='3410' style='width:300px; height:20px; vertical-align: middle;'></progress>\n",
              "      [2728/3410 25:08 < 06:17, 1.81 it/s, Epoch 4/5]\n",
              "    </div>\n",
              "    <table border=\"1\" class=\"dataframe\">\n",
              "  <thead>\n",
              " <tr style=\"text-align: left;\">\n",
              "      <th>Epoch</th>\n",
              "      <th>Training Loss</th>\n",
              "      <th>Validation Loss</th>\n",
              "      <th>Accuracy</th>\n",
              "    </tr>\n",
              "  </thead>\n",
              "  <tbody>\n",
              "    <tr>\n",
              "      <td>1</td>\n",
              "      <td>0.905100</td>\n",
              "      <td>0.802915</td>\n",
              "      <td>0.640264</td>\n",
              "    </tr>\n",
              "    <tr>\n",
              "      <td>2</td>\n",
              "      <td>0.749700</td>\n",
              "      <td>0.662885</td>\n",
              "      <td>0.729373</td>\n",
              "    </tr>\n",
              "    <tr>\n",
              "      <td>3</td>\n",
              "      <td>0.630300</td>\n",
              "      <td>0.662860</td>\n",
              "      <td>0.745050</td>\n",
              "    </tr>\n",
              "    <tr>\n",
              "      <td>4</td>\n",
              "      <td>0.515100</td>\n",
              "      <td>0.677091</td>\n",
              "      <td>0.753300</td>\n",
              "    </tr>\n",
              "  </tbody>\n",
              "</table><p>"
            ],
            "text/plain": [
              "<IPython.core.display.HTML object>"
            ]
          },
          "metadata": {},
          "output_type": "display_data"
        },
        {
          "data": {
            "text/html": [],
            "text/plain": [
              "<IPython.core.display.HTML object>"
            ]
          },
          "metadata": {},
          "output_type": "display_data"
        },
        {
          "name": "stdout",
          "output_type": "stream",
          "text": [
            "Classification Report for Validation Data - XLM-RoBERTa:\n",
            "              precision    recall  f1-score   support\n",
            "\n",
            "           0       0.80      0.77      0.79       423\n",
            "           1       0.65      0.75      0.70       366\n",
            "           2       0.79      0.71      0.75       423\n",
            "\n",
            "    accuracy                           0.75      1212\n",
            "   macro avg       0.75      0.75      0.74      1212\n",
            "weighted avg       0.75      0.75      0.75      1212\n",
            "\n"
          ]
        },
        {
          "data": {
            "text/html": [],
            "text/plain": [
              "<IPython.core.display.HTML object>"
            ]
          },
          "metadata": {},
          "output_type": "display_data"
        },
        {
          "name": "stdout",
          "output_type": "stream",
          "text": [
            "                                             premise  \\\n",
            "0  بکس، کیسی، راہیل، یسعیاہ، کیلی، کیلی، اور کولم...   \n",
            "1                             هذا هو ما تم نصحنا به.   \n",
            "2  et cela est en grande partie dû au fait que le...   \n",
            "3                   与城市及其他公民及社区组织代表就IMA的艺术发展进行对话&amp   \n",
            "4                              Она все еще была там.   \n",
            "\n",
            "                                          hypothesis  predicted_label  \n",
            "0  کیسی کے لئے کوئی یادگار نہیں ہوگا, کولمین ہائی...                1  \n",
            "1  عندما يتم إخبارهم بما يجب عليهم فعله ، فشلت ال...                1  \n",
            "2                             Les mères se droguent.                0  \n",
            "3                            IMA与其他组织合作，因为它们都依靠共享资金。                1  \n",
            "4     Мы думали, что она ушла, однако, она осталась.                0  \n"
          ]
        }
      ],
      "source": [
        "from transformers import AutoTokenizer, AutoModelForSequenceClassification, Trainer, TrainingArguments, EarlyStoppingCallback\n",
        "from datasets import Dataset\n",
        "from sklearn.metrics import accuracy_score, classification_report\n",
        "import numpy as np\n",
        "\n",
        "# ✅ Load XLM-R tokenizer (multilingual)\n",
        "tokenizer_bert = AutoTokenizer.from_pretrained('xlm-roberta-base')\n",
        "\n",
        "# ✅ Tokenization function\n",
        "def tokenize_batch_bert(batch):\n",
        "    return tokenizer_bert(batch['premise'], batch['hypothesis'], padding='max_length', truncation='only_first', max_length=128)\n",
        "\n",
        "# ✅ Convert cleaned DataFrames to Hugging Face Datasets\n",
        "train_dataset_bert = Dataset.from_pandas(clean_train_df)\n",
        "test_dataset_bert = Dataset.from_pandas(clean_test_df)\n",
        "\n",
        "# ✅ Tokenize both datasets\n",
        "train_dataset_bert = train_dataset_bert.map(tokenize_batch_bert, batched=True)\n",
        "test_dataset_bert = test_dataset_bert.map(tokenize_batch_bert, batched=True)\n",
        "\n",
        "# ✅ Add labels explicitly (only for training data)\n",
        "train_dataset_bert = train_dataset_bert.map(lambda x: {'labels': x['label']}, batched=True)\n",
        "\n",
        "# ✅ Train/validation split from training dataset\n",
        "train_ds_bert, val_ds_bert = train_dataset_bert.train_test_split(test_size=0.1, seed=42).values()\n",
        "\n",
        "# ✅ Load multilingual model for sequence classification\n",
        "model_bert = AutoModelForSequenceClassification.from_pretrained('xlm-roberta-base', num_labels=3)\n",
        "\n",
        "# ✅ Define compute_metrics for accuracy\n",
        "def compute_metrics_bert(p):\n",
        "    predictions, labels = p\n",
        "    predictions = np.argmax(predictions, axis=-1)\n",
        "    accuracy = accuracy_score(labels, predictions)\n",
        "    return {'accuracy': accuracy}\n",
        "\n",
        "# ✅ Training arguments\n",
        "training_arguments_bert = TrainingArguments(\n",
        "    output_dir='./results',\n",
        "    num_train_epochs=5,\n",
        "    learning_rate=1e-5,\n",
        "    warmup_ratio=0.03,\n",
        "    weight_decay=0.05,\n",
        "    per_device_train_batch_size=16,\n",
        "    per_device_eval_batch_size=64,\n",
        "    eval_strategy=\"epoch\",\n",
        "    save_strategy=\"epoch\",\n",
        "    load_best_model_at_end=True,\n",
        "    logging_dir='./logs',\n",
        "    logging_steps=50,\n",
        "    logging_strategy=\"steps\",\n",
        "    report_to=\"none\",\n",
        ")\n",
        "\n",
        "# ✅ Instantiate Trainer\n",
        "trainer_bert = Trainer(\n",
        "    model=model_bert,\n",
        "    args=training_arguments_bert,\n",
        "    train_dataset=train_ds_bert,\n",
        "    eval_dataset=val_ds_bert,\n",
        "    compute_metrics=compute_metrics_bert,\n",
        "    callbacks=[EarlyStoppingCallback(early_stopping_patience=1)]\n",
        ")\n",
        "\n",
        "# ✅ Train the model\n",
        "trainer_bert.train()\n",
        "\n",
        "# ✅ Evaluate on validation set\n",
        "true_labels = val_ds_bert['labels']\n",
        "predictions_bert = trainer_bert.predict(val_ds_bert).predictions\n",
        "predicted_labels_bert = predictions_bert.argmax(axis=1)\n",
        "\n",
        "print(\"Classification Report for Validation Data - XLM-RoBERTa:\")\n",
        "print(classification_report(true_labels, predicted_labels_bert))\n",
        "\n",
        "# ✅ Predict on test dataset\n",
        "predictions_bert = trainer_bert.predict(test_dataset_bert).predictions\n",
        "predicted_labels_bert = predictions_bert.argmax(axis=1)\n",
        "\n",
        "# ✅ Create output dataframe\n",
        "clean_test_df_bert = clean_test_df.copy()\n",
        "clean_test_df_bert['predicted_label'] = predicted_labels_bert\n",
        "\n",
        "# ✅ Preview predictions\n",
        "print(clean_test_df_bert[['premise', 'hypothesis', 'predicted_label']].head())\n"
      ]
    },
    {
      "cell_type": "markdown",
      "metadata": {
        "id": "1S9xRiUQnKND"
      },
      "source": [
        "# **Build the NLI model using GPT**\n",
        "\n",
        "\n",
        "\n"
      ]
    },
    {
      "cell_type": "code",
      "execution_count": null,
      "metadata": {
        "colab": {
          "base_uri": "https://localhost:8080/",
          "height": 1000,
          "referenced_widgets": [
            "2c549abd275d4163812154b429f8b9e9",
            "d6554ccd9d0443efad63a4bedfc5295a",
            "1e9383bccc0f4292bb9b5a71db9a08c5",
            "477583d1f7b94740a26262d5248986e9",
            "9cb01614a72a4a3bbea37822e7b097bd",
            "7d605736b14747d28e08224b4df2aaca",
            "27febf40c7114bc5829fc4e503cdec81",
            "e7bd5e06c64a42128d1270d5b202a0df",
            "274848ec840f4c5a8c3544e95750f250",
            "d080a4e3e70846569b5345e2f4b96bec",
            "9b752e9508ab43dab88dda31aff4525a",
            "c7ca4b041573423e805d458b0cc902c1",
            "728678d403be4d5281057ddd9c6cc539",
            "984ac981180848f48e3ab560534ad77f",
            "c776bbb236e249f5b955607977d9a1f7",
            "9bee45a5de4f41809c692dc0641be552",
            "a7b5f1746f4e499ca0bb789cf9627553",
            "3c9e1a2dd513428ab6290d09a7b16fd0",
            "41071fbd9683486a897dd489756e4d5a",
            "3a919d4805224eb18923dd946558a7d7",
            "a086742867cb47d6a23a9edb1270b35c",
            "081c925bb35040c28679536b85033996",
            "6fd0823a98cb4d1a8bc7d469adb49da7",
            "3ba1603168b341b8bd8113e64392e43f",
            "2dd4bb2dcbd14b6784a89c9df7320d1d",
            "80ceda07a434496eb5037f875b16e75f",
            "9f3f3260be934ccd8c64309eff2a2ff7",
            "4856c8b202154b369d9e2e968e130343",
            "6096fb047baf49cab2351dd5877ec1a4",
            "6075de7836c44fd18141298ada52912b",
            "eb5644ed61284acfabee90c04321d553",
            "fc3bb40e7cfa405f8e0508af25df5885",
            "a74fdaca4d0544ff88673f6abb32668f",
            "149e4a5c97b34cf7a073737c580dbf38",
            "645d926db3d347b8b5321b977396f3dc",
            "5ca908f56791455eb0927e9a75c97d7b",
            "16e2c7ff7c8c4b4582c87a6094cf1aa9",
            "f34438f46ec94684b41d83660e523b22",
            "6c0c05ad52b94de181df3fca6e958d6e",
            "fa3371078a754c3886c811bd97118bb6",
            "c04252d1527441ad80cc497c46a24328",
            "343feb3e9dba40e6ac987ced220265b2",
            "c13ea8f6eca041818b6aedad44981c74",
            "14adbec5a2d4421ca2a0fc10ebdf8bac",
            "6bf8d99fe9bc4346b3a4d5c6c23cbe18",
            "b759817b4bb94566b202077bf7bed511",
            "32f453494fb9495fb45bd9478caa1d79",
            "c7bd0cd2f46e49888942678936b4cddf",
            "d7c5cb9066534b43a11baccc01cb54d3",
            "e73e130ba2464a968edb66859ef83c26",
            "f4730ad86709494b94e1da2307c7ed38",
            "e4f1220926d34cb7bdc3387d34f7ec3e",
            "de6c45370351434bb4acceb2f1e5e0ce",
            "467519ceec3c46168de99ae5ccbb5123",
            "c0cb2c41c0914689b82cf275d4f689f0",
            "0c621c830a5d41628d819feea71e5fdc",
            "4056b3c3941a430e85c8cea445b30c34",
            "73026ec2722f4dc68a31dae768b5cbd5",
            "d2680d3c010548d8850c2f658088994f",
            "4394d94748a14776902c471b413b58c1",
            "12026dc135d04e4a943d11205671f31e",
            "3606bf8f4d984e23a862a3949ff547ff",
            "e30271c936024a6782ed4a9e438a5607",
            "5df1c172d3cb4d95b45cbcc2fe1f97c8",
            "5a44117d065d4356989982087eebcff9",
            "2f6af047af974d688cdeba1c31628978",
            "f82c88e41ea542378ac6a1fce14f6bce",
            "190a49d8fb9d4d15b30b1b486c1e73b9",
            "a9eafd73fdb646d2b922b95861e71c81",
            "bbcbf82f95044ab790cb887a04a55b5c",
            "9261278fd372456781dbcae12c5f3d44",
            "4fa1190a6d2840ca93b1eda0e60fbe7b",
            "b09f5922364f4da4ab925e678e1af092",
            "d0c98ddc67af4b1ebe7eccf3153c12a7",
            "54a5f3046ae8416fb072d36acd27d4b0",
            "c83cb1bc4968477a93423c9d9c622a98",
            "919c66492dfe49b8a08324764dd228ba",
            "6967bd9bbad548298e6b8d472d5b69a3",
            "87952acdd5ca40fa9879f6400b4dba64",
            "59565892b1544b95b260971986cce628",
            "ec13509bb18d4225b3a9e558fa37a8e9",
            "2600dece01d9477db60a787791c33b01",
            "d7a35c4f35db4f9aaa5c75b5fd4aa786",
            "96a0e6ea1e4b403eb794f6b2a76f7dd7",
            "6e937358eb3649f98c2bfdad4fbe3d68",
            "d97d3a6c91e8456fbe1f810b4a9d6730",
            "91e1f7d97c7a407bb94b87c4c2f5123d",
            "3d742b245a744d66941a06577534512a",
            "5b6bb603d1c44e4ca18adc9318cb5376",
            "c57c2437ae9e4e7daaa47f60025f3adc",
            "1feaee7c70f046fb936e7442a5514b2e",
            "f2379cf4f50d4c23a46b6593de53a6ae",
            "60f41259d63240e0990534f1298b44a0",
            "27a6f9725a954ea1af69a79eb2e8f933",
            "1db82c12b77141c99e567427b4040d1b",
            "4f73232474804d17a187416ca6612621",
            "c9aabd046a71456e930db16e4297a094",
            "e6614faa5aaa465a92eab5ba98623116",
            "68addffcf3c541caadab477bebb9f42c",
            "a5b761cd58d74172abc29f93899b1d2e",
            "24582f8d466042c49175f2a1d7b7a293",
            "89f6fa199d2e425f980d5bf22a1e1126",
            "444a41bc060f463aa45bdd739efe3634",
            "2479277b85c64270a83ba26188831636",
            "b54d1bb8009d4b8aa135417998a210d8",
            "e2e51b5c3b574fd59b6bd7f126270e75",
            "46904f1d9485430390526fc26884f674",
            "21e6f36a6a774b75b9a49a8e9c1e4904",
            "9d7b7481eb004993b8bdbcbc4e9ec991",
            "238f06a113bb4282a0216793ef7a7778"
          ]
        },
        "id": "KfUVLVO5blVy",
        "outputId": "85a3aaee-54be-4d1c-cd19-939c8a1a7923"
      },
      "outputs": [
        {
          "name": "stderr",
          "output_type": "stream",
          "text": [
            "/usr/local/lib/python3.11/dist-packages/huggingface_hub/utils/_auth.py:94: UserWarning: \n",
            "The secret `HF_TOKEN` does not exist in your Colab secrets.\n",
            "To authenticate with the Hugging Face Hub, create a token in your settings tab (https://huggingface.co/settings/tokens), set it as secret in your Google Colab and restart your session.\n",
            "You will be able to reuse this secret in all of your notebooks.\n",
            "Please note that authentication is recommended but still optional to access public models or datasets.\n",
            "  warnings.warn(\n"
          ]
        },
        {
          "data": {
            "application/vnd.jupyter.widget-view+json": {
              "model_id": "2c549abd275d4163812154b429f8b9e9",
              "version_major": 2,
              "version_minor": 0
            },
            "text/plain": [
              "tokenizer_config.json:   0%|          | 0.00/26.0 [00:00<?, ?B/s]"
            ]
          },
          "metadata": {},
          "output_type": "display_data"
        },
        {
          "data": {
            "application/vnd.jupyter.widget-view+json": {
              "model_id": "c7ca4b041573423e805d458b0cc902c1",
              "version_major": 2,
              "version_minor": 0
            },
            "text/plain": [
              "vocab.json:   0%|          | 0.00/1.04M [00:00<?, ?B/s]"
            ]
          },
          "metadata": {},
          "output_type": "display_data"
        },
        {
          "data": {
            "application/vnd.jupyter.widget-view+json": {
              "model_id": "6fd0823a98cb4d1a8bc7d469adb49da7",
              "version_major": 2,
              "version_minor": 0
            },
            "text/plain": [
              "merges.txt:   0%|          | 0.00/456k [00:00<?, ?B/s]"
            ]
          },
          "metadata": {},
          "output_type": "display_data"
        },
        {
          "data": {
            "application/vnd.jupyter.widget-view+json": {
              "model_id": "149e4a5c97b34cf7a073737c580dbf38",
              "version_major": 2,
              "version_minor": 0
            },
            "text/plain": [
              "tokenizer.json:   0%|          | 0.00/1.36M [00:00<?, ?B/s]"
            ]
          },
          "metadata": {},
          "output_type": "display_data"
        },
        {
          "data": {
            "application/vnd.jupyter.widget-view+json": {
              "model_id": "6bf8d99fe9bc4346b3a4d5c6c23cbe18",
              "version_major": 2,
              "version_minor": 0
            },
            "text/plain": [
              "config.json:   0%|          | 0.00/718 [00:00<?, ?B/s]"
            ]
          },
          "metadata": {},
          "output_type": "display_data"
        },
        {
          "data": {
            "application/vnd.jupyter.widget-view+json": {
              "model_id": "0c621c830a5d41628d819feea71e5fdc",
              "version_major": 2,
              "version_minor": 0
            },
            "text/plain": [
              "Map:   0%|          | 0/12120 [00:00<?, ? examples/s]"
            ]
          },
          "metadata": {},
          "output_type": "display_data"
        },
        {
          "data": {
            "application/vnd.jupyter.widget-view+json": {
              "model_id": "f82c88e41ea542378ac6a1fce14f6bce",
              "version_major": 2,
              "version_minor": 0
            },
            "text/plain": [
              "Map:   0%|          | 0/5195 [00:00<?, ? examples/s]"
            ]
          },
          "metadata": {},
          "output_type": "display_data"
        },
        {
          "data": {
            "application/vnd.jupyter.widget-view+json": {
              "model_id": "6967bd9bbad548298e6b8d472d5b69a3",
              "version_major": 2,
              "version_minor": 0
            },
            "text/plain": [
              "Map:   0%|          | 0/12120 [00:00<?, ? examples/s]"
            ]
          },
          "metadata": {},
          "output_type": "display_data"
        },
        {
          "name": "stderr",
          "output_type": "stream",
          "text": [
            "Xet Storage is enabled for this repo, but the 'hf_xet' package is not installed. Falling back to regular HTTP download. For better performance, install the package with: `pip install huggingface_hub[hf_xet]` or `pip install hf_xet`\n",
            "WARNING:huggingface_hub.file_download:Xet Storage is enabled for this repo, but the 'hf_xet' package is not installed. Falling back to regular HTTP download. For better performance, install the package with: `pip install huggingface_hub[hf_xet]` or `pip install hf_xet`\n"
          ]
        },
        {
          "data": {
            "application/vnd.jupyter.widget-view+json": {
              "model_id": "5b6bb603d1c44e4ca18adc9318cb5376",
              "version_major": 2,
              "version_minor": 0
            },
            "text/plain": [
              "model.safetensors:   0%|          | 0.00/1.52G [00:00<?, ?B/s]"
            ]
          },
          "metadata": {},
          "output_type": "display_data"
        },
        {
          "name": "stderr",
          "output_type": "stream",
          "text": [
            "Some weights of GPT2ForSequenceClassification were not initialized from the model checkpoint at gpt2-medium and are newly initialized: ['score.weight']\n",
            "You should probably TRAIN this model on a down-stream task to be able to use it for predictions and inference.\n",
            "<ipython-input-9-0d1cae552ea1>:89: FutureWarning: `tokenizer` is deprecated and will be removed in version 5.0.0 for `Trainer.__init__`. Use `processing_class` instead.\n",
            "  trainer_gpt = Trainer(\n"
          ]
        },
        {
          "data": {
            "text/html": [
              "\n",
              "    <div>\n",
              "      \n",
              "      <progress value='5456' max='8184' style='width:300px; height:20px; vertical-align: middle;'></progress>\n",
              "      [5456/8184 1:12:54 < 36:27, 1.25 it/s, Epoch 4/6]\n",
              "    </div>\n",
              "    <table border=\"1\" class=\"dataframe\">\n",
              "  <thead>\n",
              " <tr style=\"text-align: left;\">\n",
              "      <th>Epoch</th>\n",
              "      <th>Training Loss</th>\n",
              "      <th>Validation Loss</th>\n",
              "      <th>Accuracy</th>\n",
              "    </tr>\n",
              "  </thead>\n",
              "  <tbody>\n",
              "    <tr>\n",
              "      <td>1</td>\n",
              "      <td>1.127700</td>\n",
              "      <td>1.038833</td>\n",
              "      <td>0.448845</td>\n",
              "    </tr>\n",
              "    <tr>\n",
              "      <td>2</td>\n",
              "      <td>0.935800</td>\n",
              "      <td>0.878671</td>\n",
              "      <td>0.599010</td>\n",
              "    </tr>\n",
              "    <tr>\n",
              "      <td>3</td>\n",
              "      <td>0.809300</td>\n",
              "      <td>0.855935</td>\n",
              "      <td>0.632013</td>\n",
              "    </tr>\n",
              "    <tr>\n",
              "      <td>4</td>\n",
              "      <td>0.647800</td>\n",
              "      <td>0.921914</td>\n",
              "      <td>0.614686</td>\n",
              "    </tr>\n",
              "  </tbody>\n",
              "</table><p>"
            ],
            "text/plain": [
              "<IPython.core.display.HTML object>"
            ]
          },
          "metadata": {},
          "output_type": "display_data"
        },
        {
          "data": {
            "text/html": [],
            "text/plain": [
              "<IPython.core.display.HTML object>"
            ]
          },
          "metadata": {},
          "output_type": "display_data"
        },
        {
          "name": "stdout",
          "output_type": "stream",
          "text": [
            "Classification Report for Validation Data - GPT2-MEDIUM:\n",
            "               precision    recall  f1-score   support\n",
            "\n",
            "   entailment       0.66      0.70      0.68       423\n",
            "      neutral       0.55      0.61      0.58       366\n",
            "contradiction       0.69      0.58      0.63       423\n",
            "\n",
            "     accuracy                           0.63      1212\n",
            "    macro avg       0.63      0.63      0.63      1212\n",
            " weighted avg       0.64      0.63      0.63      1212\n",
            "\n"
          ]
        },
        {
          "data": {
            "application/vnd.jupyter.widget-view+json": {
              "model_id": "a5b761cd58d74172abc29f93899b1d2e",
              "version_major": 2,
              "version_minor": 0
            },
            "text/plain": [
              "Map:   0%|          | 0/5195 [00:00<?, ? examples/s]"
            ]
          },
          "metadata": {},
          "output_type": "display_data"
        },
        {
          "data": {
            "text/html": [],
            "text/plain": [
              "<IPython.core.display.HTML object>"
            ]
          },
          "metadata": {},
          "output_type": "display_data"
        },
        {
          "name": "stdout",
          "output_type": "stream",
          "text": [
            "                                             premise  \\\n",
            "0  بکس، کیسی، راہیل، یسعیاہ، کیلی، کیلی، اور کولم...   \n",
            "1                             هذا هو ما تم نصحنا به.   \n",
            "2  et cela est en grande partie dû au fait que le...   \n",
            "3                   与城市及其他公民及社区组织代表就IMA的艺术发展进行对话&amp   \n",
            "4                              Она все еще была там.   \n",
            "\n",
            "                                          hypothesis  predicted_label  \n",
            "0  کیسی کے لئے کوئی یادگار نہیں ہوگا, کولمین ہائی...                2  \n",
            "1  عندما يتم إخبارهم بما يجب عليهم فعله ، فشلت ال...                1  \n",
            "2                             Les mères se droguent.                0  \n",
            "3                            IMA与其他组织合作，因为它们都依靠共享资金。                0  \n",
            "4     Мы думали, что она ушла, однако, она осталась.                2  \n"
          ]
        }
      ],
      "source": [
        "# Fine-tune training arguments\n",
        "from transformers import GPT2Tokenizer, GPT2ForSequenceClassification, AutoConfig, Trainer, TrainingArguments, EarlyStoppingCallback\n",
        "from transformers import DataCollatorWithPadding\n",
        "from datasets import Dataset\n",
        "from sklearn.metrics import accuracy_score, classification_report\n",
        "from sklearn.utils.class_weight import compute_class_weight\n",
        "import torch\n",
        "import torch.nn as nn\n",
        "import numpy as np\n",
        "\n",
        "# ✅ Load tokenizer from gpt2-medium\n",
        "tokenizer_gpt = GPT2Tokenizer.from_pretrained(\"gpt2-medium\")\n",
        "tokenizer_gpt.pad_token = tokenizer_gpt.eos_token\n",
        "\n",
        "# ✅ Load model config from gpt2-medium\n",
        "config_gpt = AutoConfig.from_pretrained(\"gpt2-medium\", num_labels=3, pad_token_id=tokenizer_gpt.pad_token_id)\n",
        "\n",
        "# ✅ New prompt format for better task understanding\n",
        "def tokenize_batch_gpt(batch):\n",
        "    prompt = [\n",
        "        f\"Premise: \\\"{p}\\\"\\nHypothesis: \\\"{h}\\\"\\nWhat is the relationship between them?\\n(A) Entailment\\n(B) Neutral\\n(C) Contradiction\\nAnswer:\"\n",
        "        for p, h in zip(batch['premise'], batch['hypothesis'])\n",
        "    ]\n",
        "    return tokenizer_gpt(prompt, padding='max_length', truncation=True, max_length=128)\n",
        "\n",
        "# ✅ Load and tokenize datasets\n",
        "train_dataset_gpt = Dataset.from_pandas(clean_train_df)\n",
        "test_dataset_gpt = Dataset.from_pandas(clean_test_df)\n",
        "\n",
        "train_dataset_gpt = train_dataset_gpt.map(tokenize_batch_gpt, batched=True)\n",
        "test_dataset_gpt = test_dataset_gpt.map(tokenize_batch_gpt, batched=True)\n",
        "\n",
        "train_dataset_gpt = train_dataset_gpt.map(lambda x: {'labels': x['label']}, batched=True)\n",
        "\n",
        "# ✅ Train-validation split\n",
        "train_ds_gpt, val_ds_gpt = train_dataset_gpt.train_test_split(test_size=0.1, seed=42).values()\n",
        "\n",
        "# ✅ Compute class weights\n",
        "label_list = train_dataset_gpt['label']\n",
        "class_weights_np = compute_class_weight(class_weight='balanced', classes=np.unique(label_list), y=label_list)\n",
        "class_weights_tensor = torch.tensor(class_weights_np, dtype=torch.float)\n",
        "\n",
        "# ✅ Custom model with class-weighted loss\n",
        "class GPT2ForNLI(nn.Module):\n",
        "    def __init__(self, config, class_weights=None):\n",
        "        super().__init__()\n",
        "        # ⬇️ Load gpt2-medium here\n",
        "        self.transformer = GPT2ForSequenceClassification.from_pretrained(\"gpt2-medium\", config=config)\n",
        "        self.loss_fn = nn.CrossEntropyLoss(weight=class_weights) if class_weights is not None else nn.CrossEntropyLoss()\n",
        "\n",
        "    def forward(self, input_ids, attention_mask=None, labels=None):\n",
        "        outputs = self.transformer(input_ids=input_ids, attention_mask=attention_mask)\n",
        "        logits = outputs.logits\n",
        "        loss = self.loss_fn(logits, labels) if labels is not None else None\n",
        "        return {\"loss\": loss, \"logits\": logits}\n",
        "\n",
        "# ✅ Load model to device\n",
        "device = torch.device(\"cuda\" if torch.cuda.is_available() else \"cpu\")\n",
        "model_gpt = GPT2ForNLI(config_gpt, class_weights=class_weights_tensor.to(device)).to(device)\n",
        "\n",
        "# ✅ Define metrics\n",
        "def compute_metrics_gpt(p):\n",
        "    predictions, labels = p\n",
        "    predictions = np.argmax(predictions, axis=-1)\n",
        "    accuracy = accuracy_score(labels, predictions)\n",
        "    return {'accuracy': accuracy}\n",
        "\n",
        "# ✅ Set training arguments\n",
        "training_arguments_gpt = TrainingArguments(\n",
        "    output_dir='./gpt-results',\n",
        "    num_train_epochs=6,\n",
        "    learning_rate=2e-5,\n",
        "    warmup_ratio=0.1,\n",
        "    weight_decay=0.05,\n",
        "    per_device_train_batch_size=8,\n",
        "    per_device_eval_batch_size=32,\n",
        "    eval_strategy=\"epoch\",\n",
        "    save_strategy=\"epoch\",\n",
        "    load_best_model_at_end=True,\n",
        "    label_smoothing_factor=0.1,\n",
        "    logging_dir='./gpt-logs',\n",
        "    logging_steps=50,\n",
        "    report_to=\"none\",\n",
        ")\n",
        "\n",
        "# ✅ Initialize Trainer\n",
        "trainer_gpt = Trainer(\n",
        "    model=model_gpt,\n",
        "    args=training_arguments_gpt,\n",
        "    train_dataset=train_ds_gpt,\n",
        "    eval_dataset=val_ds_gpt,\n",
        "    tokenizer=tokenizer_gpt,\n",
        "    data_collator=DataCollatorWithPadding(tokenizer=tokenizer_gpt),\n",
        "    compute_metrics=compute_metrics_gpt,\n",
        "    callbacks=[EarlyStoppingCallback(early_stopping_patience=1)]\n",
        ")\n",
        "\n",
        "# ✅ Train\n",
        "trainer_gpt.train()\n",
        "\n",
        "# ✅ Evaluate on validation set\n",
        "true_labels = val_ds_gpt['labels']\n",
        "predictions_gpt = trainer_gpt.predict(val_ds_gpt).predictions\n",
        "predicted_labels_gpt = predictions_gpt.argmax(axis=1)\n",
        "\n",
        "print(\"Classification Report for Validation Data - GPT2-MEDIUM:\")\n",
        "print(classification_report(true_labels, predicted_labels_gpt, target_names=[\"entailment\", \"neutral\", \"contradiction\"]))\n",
        "\n",
        "# ✅ Prepare test set (add dummy labels)\n",
        "test_dataset_gpt = test_dataset_gpt.map(lambda x: {'labels': 0})\n",
        "\n",
        "# ✅ Predict on test data\n",
        "predictions_gpt = trainer_gpt.predict(test_dataset_gpt).predictions\n",
        "predicted_labels_gpt = predictions_gpt.argmax(axis=1)\n",
        "\n",
        "# ✅ Output predictions\n",
        "clean_test_df_gpt = clean_test_df.copy()\n",
        "clean_test_df_gpt['predicted_label'] = predicted_labels_gpt\n",
        "print(clean_test_df_gpt[['premise', 'hypothesis', 'predicted_label']].head())\n"
      ]
    },
    {
      "cell_type": "markdown",
      "source": [
        "<h2>Analysis &amp; Conclusions</h2>\n",
        "\n",
        "<p>\n",
        "This project compared three modeling approaches — <b>XLM-RoBERTa</b> (BERT family), <b>GPT-2 Medium</b>, and <b>Ollama</b> — for multilingual Natural Language Inference (NLI) classification on the <i>Contradictory, My Dear Watson</i> dataset.\n",
        "</p>\n",
        "\n",
        "<ol>\n",
        "  <li>\n",
        "    <b>XLM-RoBERTa (BERT)</b>\n",
        "    <ul>\n",
        "      <li>Achieved the <b>highest overall accuracy</b> at <b>75%</b>.</li>\n",
        "      <li>Precision and recall were balanced across classes</li>\n",
        "      <li>Strong performance highlights BERT’s contextual understanding capabilities in multilingual environments.</li>\n",
        "    </ul>\n",
        "  </li>\n",
        "  <li>\n",
        "    <b>GPT-2 Medium</b>\n",
        "    <ul>\n",
        "      <li>Accuracy of <b>63%</b>, 12 percentage points below BERT.</li>\n",
        "      <li>Struggled most with the <i>neutral</i> class (f1-score ~0.58), showing difficulty in distinguishing neutral cases from other relationships.</li>\n",
        "      <li>As a generative model not primarily designed for classification, GPT-2 underperformed compared to BERT.</li>\n",
        "    </ul>\n",
        "  </li>\n",
        "  <li>\n",
        "    <b>Ollama</b>\n",
        "    <ul>\n",
        "      <li>Accuracy of <b>55%</b>.</li>\n",
        "      <li>Very high precision for <i>contradiction</i> (0.94) but low recall (0.45), suggesting it identified contradictions correctly when confident but missed many actual cases.</li>\n",
        "      <li>Struggled significantly with the <i>neutral</i> class (f1-score ~0.35), resulting in the lowest overall balanced performance among the three.</li>\n",
        "    </ul>\n",
        "  </li>\n",
        "</ol>\n",
        "\n",
        "<h3>Key Observations:</h3>\n",
        "<ul>\n",
        "  <li><b>BERT</b> remains the most reliable architecture for multilingual NLI, delivering a balanced and high-performing model.</li>\n",
        "  <li><b>GPT-2</b> offers moderate performance and could benefit from prompt engineering or hybrid approaches.</li>\n",
        "  <li><b>Ollama</b> shows potential for high-precision use cases (e.g., contradiction detection) but lacks balance across all classes.</li>\n",
        "</ul>\n",
        "\n",
        "<h3>Conclusion:</h3>\n",
        "<p>\n",
        "For production-ready multilingual NLI classification, <b>XLM-RoBERTa</b> is the most suitable choice due to its consistent and high accuracy across all classes.\n",
        "GPT-2 may be used for exploratory or generative settings, while Ollama’s current performance suggests it is better suited for targeted, high-precision applications rather than general classification.\n",
        "</p>\n"
      ],
      "metadata": {
        "id": "5npHraDJ-LUg"
      }
    }
  ],
  "metadata": {
    "accelerator": "GPU",
    "colab": {
      "gpuType": "T4",
      "provenance": [],
      "mount_file_id": "1-OB595ifvIdArAbbgD9geGPAhlrtk2oq",
      "authorship_tag": "ABX9TyNWWw0sEyuUALv1ephEeH7O",
      "include_colab_link": true
    },
    "kernelspec": {
      "display_name": "Python 3",
      "name": "python3"
    },
    "language_info": {
      "name": "python"
    }
  },
  "nbformat": 4,
  "nbformat_minor": 0
}